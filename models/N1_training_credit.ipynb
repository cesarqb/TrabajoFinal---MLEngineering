{
 "cells": [
  {
   "attachments": {},
   "cell_type": "markdown",
   "metadata": {},
   "source": [
    "## Training data"
   ]
  },
  {
   "attachments": {},
   "cell_type": "markdown",
   "metadata": {},
   "source": [
    "### Step 01: Carga de dataset training & validation"
   ]
  },
  {
   "cell_type": "code",
   "execution_count": 2,
   "metadata": {},
   "outputs": [],
   "source": [
    "# Importación de librerias\n",
    "import pandas as pd"
   ]
  },
  {
   "cell_type": "code",
   "execution_count": 5,
   "metadata": {},
   "outputs": [],
   "source": [
    "# Leemos la data procesada\n",
    "data_train = pd.read_csv('../src/data/processed/train_accept_credit.csv')\n",
    "data_val = pd.read_csv('../src/data/processed/valid_accept_credit.csv')"
   ]
  },
  {
   "cell_type": "code",
   "execution_count": 7,
   "metadata": {},
   "outputs": [],
   "source": [
    "# Creamos una lista con las variables finales\n",
    "inputs = ['INGRESO_BRUTO', 'EDAD', 'NRO_PAS_PBK', 'EMP_REP_TC_SF',\n",
    "       'EMP_REP_PP_SF', 'MAX_LINEA_TCSF', 'NRO_ENT_REP_TOT_U6',\n",
    "       'NRO_ENT_REP_SAL_TOT_U6', 'PORC_ENT_REP_SAL', 'NRO_ENT_REP_TOT_UM',\n",
    "       'NRO_ENT_REP_SAL_TOT_UM', 'IND_MAXLIN_ING', 'IND_LINIBK_ING',\n",
    "       'PROB_CONT', 'CAMP_TOT', 'PROM_CAMP', 'NRO_CAMP_TC', 'CAMP_TC_U6',\n",
    "       'TIPO_FLUJO_TC', 'SEXO', 'SIT_LAB', 'DEPARTAMENTO', 'FLG_SEGURO',\n",
    "       'CLI_AHOCRED', 'CLI_CTS', 'CLI_FM', 'CLI_MILL', 'CLI_PLA', 'CLI_TXS',\n",
    "       'EMP_REP_PP_PBK', 'EMP_REP_CONV_PBK', 'EMP_REP_VEH_PBK',\n",
    "       'EMP_REP_HIP_PBK', 'CLF_SBS', 'FLG_BANCARIZADO']"
   ]
  },
  {
   "cell_type": "code",
   "execution_count": 8,
   "metadata": {},
   "outputs": [
    {
     "data": {
      "text/html": [
       "<div>\n",
       "<style scoped>\n",
       "    .dataframe tbody tr th:only-of-type {\n",
       "        vertical-align: middle;\n",
       "    }\n",
       "\n",
       "    .dataframe tbody tr th {\n",
       "        vertical-align: top;\n",
       "    }\n",
       "\n",
       "    .dataframe thead th {\n",
       "        text-align: right;\n",
       "    }\n",
       "</style>\n",
       "<table border=\"1\" class=\"dataframe\">\n",
       "  <thead>\n",
       "    <tr style=\"text-align: right;\">\n",
       "      <th></th>\n",
       "      <th>Unnamed: 0</th>\n",
       "      <th>INGRESO_BRUTO</th>\n",
       "      <th>EDAD</th>\n",
       "      <th>NRO_PAS_PBK</th>\n",
       "      <th>EMP_REP_TC_SF</th>\n",
       "      <th>EMP_REP_PP_SF</th>\n",
       "      <th>MAX_LINEA_TCSF</th>\n",
       "      <th>NRO_ENT_REP_TOT_U6</th>\n",
       "      <th>NRO_ENT_REP_SAL_TOT_U6</th>\n",
       "      <th>PORC_ENT_REP_SAL</th>\n",
       "      <th>...</th>\n",
       "      <th>CLI_MILL</th>\n",
       "      <th>CLI_PLA</th>\n",
       "      <th>CLI_TXS</th>\n",
       "      <th>EMP_REP_PP_PBK</th>\n",
       "      <th>EMP_REP_CONV_PBK</th>\n",
       "      <th>EMP_REP_VEH_PBK</th>\n",
       "      <th>EMP_REP_HIP_PBK</th>\n",
       "      <th>CLF_SBS</th>\n",
       "      <th>FLG_BANCARIZADO</th>\n",
       "      <th>TARGET_XF</th>\n",
       "    </tr>\n",
       "  </thead>\n",
       "  <tbody>\n",
       "    <tr>\n",
       "      <th>0</th>\n",
       "      <td>0</td>\n",
       "      <td>-0.239534</td>\n",
       "      <td>-1.414755</td>\n",
       "      <td>-0.255254</td>\n",
       "      <td>-0.506243</td>\n",
       "      <td>0</td>\n",
       "      <td>0.741553</td>\n",
       "      <td>1.0</td>\n",
       "      <td>-0.506243</td>\n",
       "      <td>1.000000</td>\n",
       "      <td>...</td>\n",
       "      <td>0</td>\n",
       "      <td>0</td>\n",
       "      <td>1</td>\n",
       "      <td>0</td>\n",
       "      <td>0</td>\n",
       "      <td>0</td>\n",
       "      <td>0</td>\n",
       "      <td>0.0</td>\n",
       "      <td>1</td>\n",
       "      <td>1</td>\n",
       "    </tr>\n",
       "    <tr>\n",
       "      <th>1</th>\n",
       "      <td>3</td>\n",
       "      <td>1.656007</td>\n",
       "      <td>0.407393</td>\n",
       "      <td>-0.255254</td>\n",
       "      <td>-0.506243</td>\n",
       "      <td>1</td>\n",
       "      <td>-0.158666</td>\n",
       "      <td>1.0</td>\n",
       "      <td>-0.506243</td>\n",
       "      <td>1.000000</td>\n",
       "      <td>...</td>\n",
       "      <td>0</td>\n",
       "      <td>0</td>\n",
       "      <td>1</td>\n",
       "      <td>0</td>\n",
       "      <td>1</td>\n",
       "      <td>0</td>\n",
       "      <td>0</td>\n",
       "      <td>0.0</td>\n",
       "      <td>1</td>\n",
       "      <td>1</td>\n",
       "    </tr>\n",
       "    <tr>\n",
       "      <th>2</th>\n",
       "      <td>4</td>\n",
       "      <td>-0.522851</td>\n",
       "      <td>0.589608</td>\n",
       "      <td>-0.255254</td>\n",
       "      <td>-0.506243</td>\n",
       "      <td>0</td>\n",
       "      <td>-0.406432</td>\n",
       "      <td>1.0</td>\n",
       "      <td>-0.506243</td>\n",
       "      <td>1.000000</td>\n",
       "      <td>...</td>\n",
       "      <td>0</td>\n",
       "      <td>0</td>\n",
       "      <td>1</td>\n",
       "      <td>0</td>\n",
       "      <td>0</td>\n",
       "      <td>0</td>\n",
       "      <td>0</td>\n",
       "      <td>0.0</td>\n",
       "      <td>1</td>\n",
       "      <td>1</td>\n",
       "    </tr>\n",
       "    <tr>\n",
       "      <th>3</th>\n",
       "      <td>5</td>\n",
       "      <td>-0.502221</td>\n",
       "      <td>-1.505863</td>\n",
       "      <td>-0.255254</td>\n",
       "      <td>-0.506243</td>\n",
       "      <td>0</td>\n",
       "      <td>-0.530316</td>\n",
       "      <td>1.0</td>\n",
       "      <td>-0.766504</td>\n",
       "      <td>0.666667</td>\n",
       "      <td>...</td>\n",
       "      <td>0</td>\n",
       "      <td>1</td>\n",
       "      <td>0</td>\n",
       "      <td>0</td>\n",
       "      <td>0</td>\n",
       "      <td>0</td>\n",
       "      <td>0</td>\n",
       "      <td>0.0</td>\n",
       "      <td>1</td>\n",
       "      <td>1</td>\n",
       "    </tr>\n",
       "    <tr>\n",
       "      <th>4</th>\n",
       "      <td>6</td>\n",
       "      <td>-0.755281</td>\n",
       "      <td>-1.414755</td>\n",
       "      <td>-0.255254</td>\n",
       "      <td>-0.506243</td>\n",
       "      <td>0</td>\n",
       "      <td>-0.422950</td>\n",
       "      <td>1.0</td>\n",
       "      <td>-0.506243</td>\n",
       "      <td>1.000000</td>\n",
       "      <td>...</td>\n",
       "      <td>0</td>\n",
       "      <td>0</td>\n",
       "      <td>1</td>\n",
       "      <td>0</td>\n",
       "      <td>0</td>\n",
       "      <td>0</td>\n",
       "      <td>0</td>\n",
       "      <td>0.0</td>\n",
       "      <td>1</td>\n",
       "      <td>1</td>\n",
       "    </tr>\n",
       "  </tbody>\n",
       "</table>\n",
       "<p>5 rows × 37 columns</p>\n",
       "</div>"
      ],
      "text/plain": [
       "   Unnamed: 0  INGRESO_BRUTO      EDAD  NRO_PAS_PBK  EMP_REP_TC_SF   \n",
       "0           0      -0.239534 -1.414755    -0.255254      -0.506243  \\\n",
       "1           3       1.656007  0.407393    -0.255254      -0.506243   \n",
       "2           4      -0.522851  0.589608    -0.255254      -0.506243   \n",
       "3           5      -0.502221 -1.505863    -0.255254      -0.506243   \n",
       "4           6      -0.755281 -1.414755    -0.255254      -0.506243   \n",
       "\n",
       "   EMP_REP_PP_SF  MAX_LINEA_TCSF  NRO_ENT_REP_TOT_U6  NRO_ENT_REP_SAL_TOT_U6   \n",
       "0              0        0.741553                 1.0               -0.506243  \\\n",
       "1              1       -0.158666                 1.0               -0.506243   \n",
       "2              0       -0.406432                 1.0               -0.506243   \n",
       "3              0       -0.530316                 1.0               -0.766504   \n",
       "4              0       -0.422950                 1.0               -0.506243   \n",
       "\n",
       "   PORC_ENT_REP_SAL  ...  CLI_MILL  CLI_PLA  CLI_TXS  EMP_REP_PP_PBK   \n",
       "0          1.000000  ...         0        0        1               0  \\\n",
       "1          1.000000  ...         0        0        1               0   \n",
       "2          1.000000  ...         0        0        1               0   \n",
       "3          0.666667  ...         0        1        0               0   \n",
       "4          1.000000  ...         0        0        1               0   \n",
       "\n",
       "   EMP_REP_CONV_PBK  EMP_REP_VEH_PBK  EMP_REP_HIP_PBK  CLF_SBS   \n",
       "0                 0                0                0      0.0  \\\n",
       "1                 1                0                0      0.0   \n",
       "2                 0                0                0      0.0   \n",
       "3                 0                0                0      0.0   \n",
       "4                 0                0                0      0.0   \n",
       "\n",
       "   FLG_BANCARIZADO  TARGET_XF  \n",
       "0                1          1  \n",
       "1                1          1  \n",
       "2                1          1  \n",
       "3                1          1  \n",
       "4                1          1  \n",
       "\n",
       "[5 rows x 37 columns]"
      ]
     },
     "execution_count": 8,
     "metadata": {},
     "output_type": "execute_result"
    }
   ],
   "source": [
    "data.head()"
   ]
  },
  {
   "attachments": {},
   "cell_type": "markdown",
   "metadata": {},
   "source": [
    "### Step 02: Validation Train Test Set"
   ]
  },
  {
   "cell_type": "code",
   "execution_count": 9,
   "metadata": {},
   "outputs": [],
   "source": [
    "# Training\n",
    "X_train = data_train[inputs].values\n",
    "y_train = data_train.iloc[:,-1].values\n",
    "\n",
    "# Validation\n",
    "X_test = data_val[inputs].values\n",
    "y_test = data_val.iloc[:,-1].values"
   ]
  },
  {
   "cell_type": "code",
   "execution_count": 11,
   "metadata": {},
   "outputs": [
    {
     "data": {
      "text/plain": [
       "((4010, 35), (4010,), (1336, 35), (1336,))"
      ]
     },
     "execution_count": 11,
     "metadata": {},
     "output_type": "execute_result"
    }
   ],
   "source": [
    "X_train.shape, y_train.shape, X_test.shape, y_test.shape"
   ]
  },
  {
   "attachments": {},
   "cell_type": "markdown",
   "metadata": {},
   "source": [
    "### Step 03: Training best model"
   ]
  },
  {
   "cell_type": "code",
   "execution_count": 24,
   "metadata": {},
   "outputs": [
    {
     "name": "stdout",
     "output_type": "stream",
     "text": [
      "Collecting scikit-learn\n",
      "  Downloading scikit_learn-1.2.2-cp311-cp311-win_amd64.whl (8.3 MB)\n",
      "     ---------------------------------------- 0.0/8.3 MB ? eta -:--:--\n",
      "      --------------------------------------- 0.2/8.3 MB 4.6 MB/s eta 0:00:02\n",
      "     - -------------------------------------- 0.4/8.3 MB 5.1 MB/s eta 0:00:02\n",
      "     --- ------------------------------------ 0.7/8.3 MB 5.7 MB/s eta 0:00:02\n",
      "     ----- ---------------------------------- 1.0/8.3 MB 6.0 MB/s eta 0:00:02\n",
      "     ------ --------------------------------- 1.3/8.3 MB 5.9 MB/s eta 0:00:02\n",
      "     ------- -------------------------------- 1.6/8.3 MB 6.1 MB/s eta 0:00:02\n",
      "     -------- ------------------------------- 1.8/8.3 MB 6.1 MB/s eta 0:00:02\n",
      "     ---------- ----------------------------- 2.1/8.3 MB 5.8 MB/s eta 0:00:02\n",
      "     ----------- ---------------------------- 2.3/8.3 MB 5.7 MB/s eta 0:00:02\n",
      "     ------------ --------------------------- 2.7/8.3 MB 5.8 MB/s eta 0:00:01\n",
      "     -------------- ------------------------- 2.9/8.3 MB 5.9 MB/s eta 0:00:01\n",
      "     --------------- ------------------------ 3.3/8.3 MB 5.9 MB/s eta 0:00:01\n",
      "     ----------------- ---------------------- 3.5/8.3 MB 5.9 MB/s eta 0:00:01\n",
      "     ------------------ --------------------- 3.8/8.3 MB 6.0 MB/s eta 0:00:01\n",
      "     -------------------- ------------------- 4.2/8.3 MB 6.0 MB/s eta 0:00:01\n",
      "     --------------------- ------------------ 4.4/8.3 MB 6.0 MB/s eta 0:00:01\n",
      "     ---------------------- ----------------- 4.7/8.3 MB 6.0 MB/s eta 0:00:01\n",
      "     ------------------------ --------------- 5.0/8.3 MB 6.1 MB/s eta 0:00:01\n",
      "     ------------------------- -------------- 5.3/8.3 MB 6.2 MB/s eta 0:00:01\n",
      "     --------------------------- ------------ 5.6/8.3 MB 6.1 MB/s eta 0:00:01\n",
      "     ---------------------------- ----------- 5.9/8.3 MB 6.2 MB/s eta 0:00:01\n",
      "     ----------------------------- ---------- 6.1/8.3 MB 6.1 MB/s eta 0:00:01\n",
      "     ------------------------------- -------- 6.4/8.3 MB 6.1 MB/s eta 0:00:01\n",
      "     -------------------------------- ------- 6.8/8.3 MB 6.2 MB/s eta 0:00:01\n",
      "     ---------------------------------- ----- 7.1/8.3 MB 6.2 MB/s eta 0:00:01\n",
      "     ----------------------------------- ---- 7.4/8.3 MB 6.2 MB/s eta 0:00:01\n",
      "     ------------------------------------ --- 7.6/8.3 MB 6.2 MB/s eta 0:00:01\n",
      "     -------------------------------------- - 7.9/8.3 MB 6.2 MB/s eta 0:00:01\n",
      "     ---------------------------------------  8.3/8.3 MB 6.2 MB/s eta 0:00:01\n",
      "     ---------------------------------------- 8.3/8.3 MB 6.0 MB/s eta 0:00:00\n",
      "Requirement already satisfied: numpy>=1.17.3 in c:\\users\\dmc perú\\dmc-flask\\venv\\lib\\site-packages (from scikit-learn) (1.24.3)\n",
      "Requirement already satisfied: scipy>=1.3.2 in c:\\users\\dmc perú\\dmc-flask\\venv\\lib\\site-packages (from scikit-learn) (1.10.1)\n",
      "Collecting joblib>=1.1.1\n",
      "  Using cached joblib-1.2.0-py3-none-any.whl (297 kB)\n",
      "Collecting threadpoolctl>=2.0.0\n",
      "  Using cached threadpoolctl-3.1.0-py3-none-any.whl (14 kB)\n",
      "Installing collected packages: threadpoolctl, joblib, scikit-learn\n",
      "Successfully installed joblib-1.2.0 scikit-learn-1.2.2 threadpoolctl-3.1.0\n",
      "Note: you may need to restart the kernel to use updated packages.\n"
     ]
    },
    {
     "name": "stderr",
     "output_type": "stream",
     "text": [
      "\n",
      "[notice] A new release of pip is available: 23.0.1 -> 23.1.2\n",
      "[notice] To update, run: python.exe -m pip install --upgrade pip\n"
     ]
    }
   ],
   "source": [
    "pip install -U scikit-learn"
   ]
  },
  {
   "cell_type": "code",
   "execution_count": 35,
   "metadata": {},
   "outputs": [],
   "source": [
    "from sklearn.ensemble import GradientBoostingClassifier # importamos GB\n",
    "from sklearn import metrics # Importamos métricas de validación\n",
    "import pickle # importamos almacenador del modelo"
   ]
  },
  {
   "cell_type": "code",
   "execution_count": 29,
   "metadata": {},
   "outputs": [
    {
     "name": "stdout",
     "output_type": "stream",
     "text": [
      "train score: 0.8463840399002494\n"
     ]
    }
   ],
   "source": [
    "GB = GradientBoostingClassifier(n_estimators=100, random_state=123) # cargamos el modelo\n",
    "GB.fit(X_train, y_train) # ajustamos la data\n",
    "print('train score:', GB.score(X_train, y_train)) # mostramos el score"
   ]
  },
  {
   "cell_type": "code",
   "execution_count": 30,
   "metadata": {},
   "outputs": [
    {
     "data": {
      "text/plain": [
       "array([0.79194439, 0.91889848, 0.84452841, ..., 0.90673312, 0.87594545,\n",
       "       0.87832002])"
      ]
     },
     "execution_count": 30,
     "metadata": {},
     "output_type": "execute_result"
    }
   ],
   "source": [
    "prob_gb = GB.predict_proba(X_test)\n",
    "prob_gb_one = prob_gb[:, 1]\n",
    "prob_gb_one"
   ]
  },
  {
   "cell_type": "code",
   "execution_count": 31,
   "metadata": {},
   "outputs": [
    {
     "data": {
      "text/plain": [
       "array([ True,  True,  True, ...,  True,  True,  True])"
      ]
     },
     "execution_count": 31,
     "metadata": {},
     "output_type": "execute_result"
    }
   ],
   "source": [
    "y_pred_gb = prob_gb_one >= 0.5\n",
    "y_pred_gb"
   ]
  },
  {
   "cell_type": "code",
   "execution_count": 34,
   "metadata": {},
   "outputs": [
    {
     "name": "stdout",
     "output_type": "stream",
     "text": [
      "              precision    recall  f1-score   support\n",
      "\n",
      "           0       0.80      0.55      0.65       539\n",
      "           1       0.75      0.91      0.82       797\n",
      "\n",
      "    accuracy                           0.76      1336\n",
      "   macro avg       0.77      0.73      0.74      1336\n",
      "weighted avg       0.77      0.76      0.75      1336\n",
      "\n"
     ]
    }
   ],
   "source": [
    "print(metrics.classification_report(y_test, y_pred_gb))"
   ]
  },
  {
   "cell_type": "code",
   "execution_count": 36,
   "metadata": {},
   "outputs": [],
   "source": [
    "filename = '../models/credit_campaing_trabajo_final_GB.sav'\n",
    "pickle.dump(GB, open(filename, 'wb'))"
   ]
  },
  {
   "cell_type": "code",
   "execution_count": null,
   "metadata": {},
   "outputs": [],
   "source": []
  },
  {
   "cell_type": "code",
   "execution_count": null,
   "metadata": {},
   "outputs": [],
   "source": []
  }
 ],
 "metadata": {
  "kernelspec": {
   "display_name": "base",
   "language": "python",
   "name": "python3"
  },
  "language_info": {
   "codemirror_mode": {
    "name": "ipython",
    "version": 3
   },
   "file_extension": ".py",
   "mimetype": "text/x-python",
   "name": "python",
   "nbconvert_exporter": "python",
   "pygments_lexer": "ipython3",
   "version": "3.11.1"
  },
  "orig_nbformat": 4
 },
 "nbformat": 4,
 "nbformat_minor": 2
}

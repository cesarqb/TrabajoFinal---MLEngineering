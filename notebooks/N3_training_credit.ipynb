{
 "cells": [
  {
   "attachments": {},
   "cell_type": "markdown",
   "metadata": {},
   "source": [
    "## Training data"
   ]
  },
  {
   "attachments": {},
   "cell_type": "markdown",
   "metadata": {},
   "source": [
    "### Step 01: Carga de dataset training & validation"
   ]
  },
  {
   "cell_type": "code",
   "execution_count": 1,
   "metadata": {},
   "outputs": [],
   "source": [
    "# Importación de librerias\n",
    "import pandas as pd"
   ]
  },
  {
   "cell_type": "code",
   "execution_count": 3,
   "metadata": {},
   "outputs": [],
   "source": [
    "# Leemos la data procesada\n",
    "data_train = pd.read_csv('../data/processed/train_accept_credit.csv')\n",
    "data_val = pd.read_csv('../data/processed/valid_accept_credit.csv')"
   ]
  },
  {
   "cell_type": "code",
   "execution_count": 4,
   "metadata": {},
   "outputs": [],
   "source": [
    "# Creamos una lista con las variables finales\n",
    "inputs = ['INGRESO_BRUTO', 'EDAD', 'NRO_PAS_PBK', 'EMP_REP_TC_SF',\n",
    "       'EMP_REP_PP_SF', 'MAX_LINEA_TCSF', 'NRO_ENT_REP_TOT_U6',\n",
    "       'NRO_ENT_REP_SAL_TOT_U6', 'PORC_ENT_REP_SAL', 'NRO_ENT_REP_TOT_UM',\n",
    "       'NRO_ENT_REP_SAL_TOT_UM', 'IND_MAXLIN_ING', 'IND_LINIBK_ING',\n",
    "       'PROB_CONT', 'CAMP_TOT', 'PROM_CAMP', 'NRO_CAMP_TC', 'CAMP_TC_U6',\n",
    "       'TIPO_FLUJO_TC', 'SEXO', 'SIT_LAB', 'DEPARTAMENTO', 'FLG_SEGURO',\n",
    "       'CLI_AHOCRED', 'CLI_CTS', 'CLI_FM', 'CLI_MILL', 'CLI_PLA', 'CLI_TXS',\n",
    "       'EMP_REP_PP_PBK', 'EMP_REP_CONV_PBK', 'EMP_REP_VEH_PBK',\n",
    "       'EMP_REP_HIP_PBK', 'CLF_SBS', 'FLG_BANCARIZADO']"
   ]
  },
  {
   "attachments": {},
   "cell_type": "markdown",
   "metadata": {},
   "source": [
    "### Step 02: Validation Train Test Set"
   ]
  },
  {
   "cell_type": "code",
   "execution_count": 5,
   "metadata": {},
   "outputs": [],
   "source": [
    "# Training\n",
    "X_train = data_train[inputs].values\n",
    "y_train = data_train.iloc[:,-1].values\n",
    "\n",
    "# Validation\n",
    "X_test = data_val[inputs].values\n",
    "y_test = data_val.iloc[:,-1].values"
   ]
  },
  {
   "cell_type": "code",
   "execution_count": 6,
   "metadata": {},
   "outputs": [
    {
     "data": {
      "text/plain": [
       "((4010, 35), (4010,), (1336, 35), (1336,))"
      ]
     },
     "execution_count": 6,
     "metadata": {},
     "output_type": "execute_result"
    }
   ],
   "source": [
    "X_train.shape, y_train.shape, X_test.shape, y_test.shape"
   ]
  },
  {
   "attachments": {},
   "cell_type": "markdown",
   "metadata": {},
   "source": [
    "### Step 03: Training best model"
   ]
  },
  {
   "cell_type": "code",
   "execution_count": 7,
   "metadata": {},
   "outputs": [
    {
     "name": "stdout",
     "output_type": "stream",
     "text": [
      "Requirement already satisfied: scikit-learn in c:\\users\\pc\\miniconda3\\lib\\site-packages (1.2.2)\n",
      "Requirement already satisfied: threadpoolctl>=2.0.0 in c:\\users\\pc\\miniconda3\\lib\\site-packages (from scikit-learn) (2.2.0)\n",
      "Requirement already satisfied: numpy>=1.17.3 in c:\\users\\pc\\miniconda3\\lib\\site-packages (from scikit-learn) (1.22.4)\n",
      "Requirement already satisfied: joblib>=1.1.1 in c:\\users\\pc\\miniconda3\\lib\\site-packages (from scikit-learn) (1.1.1)\n",
      "Requirement already satisfied: scipy>=1.3.2 in c:\\users\\pc\\miniconda3\\lib\\site-packages (from scikit-learn) (1.7.3)\n",
      "Note: you may need to restart the kernel to use updated packages.\n"
     ]
    }
   ],
   "source": [
    "pip install -U scikit-learn"
   ]
  },
  {
   "cell_type": "code",
   "execution_count": 8,
   "metadata": {},
   "outputs": [],
   "source": [
    "from sklearn.ensemble import GradientBoostingClassifier # importamos GB\n",
    "from sklearn import metrics # Importamos métricas de validación\n",
    "import pickle # importamos almacenador del modelo"
   ]
  },
  {
   "cell_type": "code",
   "execution_count": 9,
   "metadata": {},
   "outputs": [
    {
     "name": "stdout",
     "output_type": "stream",
     "text": [
      "train score: 0.8463840399002494\n"
     ]
    }
   ],
   "source": [
    "GB = GradientBoostingClassifier(n_estimators=100, random_state=123) # cargamos el modelo\n",
    "GB.fit(X_train, y_train) # ajustamos la data\n",
    "print('train score:', GB.score(X_train, y_train)) # mostramos el score"
   ]
  },
  {
   "cell_type": "code",
   "execution_count": 10,
   "metadata": {},
   "outputs": [
    {
     "data": {
      "text/plain": [
       "array([0.79194439, 0.91889848, 0.84452841, ..., 0.90673312, 0.87594545,\n",
       "       0.87832002])"
      ]
     },
     "execution_count": 10,
     "metadata": {},
     "output_type": "execute_result"
    }
   ],
   "source": [
    "prob_gb = GB.predict_proba(X_test)\n",
    "prob_gb_one = prob_gb[:, 1]\n",
    "prob_gb_one"
   ]
  },
  {
   "cell_type": "code",
   "execution_count": 11,
   "metadata": {},
   "outputs": [
    {
     "data": {
      "text/plain": [
       "array([ True,  True,  True, ...,  True,  True,  True])"
      ]
     },
     "execution_count": 11,
     "metadata": {},
     "output_type": "execute_result"
    }
   ],
   "source": [
    "y_pred_gb = prob_gb_one >= 0.5\n",
    "y_pred_gb"
   ]
  },
  {
   "cell_type": "code",
   "execution_count": 12,
   "metadata": {},
   "outputs": [
    {
     "name": "stdout",
     "output_type": "stream",
     "text": [
      "              precision    recall  f1-score   support\n",
      "\n",
      "           0       0.80      0.55      0.65       539\n",
      "           1       0.75      0.91      0.82       797\n",
      "\n",
      "    accuracy                           0.76      1336\n",
      "   macro avg       0.77      0.73      0.74      1336\n",
      "weighted avg       0.77      0.76      0.75      1336\n",
      "\n"
     ]
    }
   ],
   "source": [
    "print(metrics.classification_report(y_test, y_pred_gb))"
   ]
  },
  {
   "cell_type": "code",
   "execution_count": 36,
   "metadata": {},
   "outputs": [],
   "source": [
    "filename = '../models/credit_campaing_trabajo_final_GB2.pkl'\n",
    "pickle.dump(GB, open(filename, 'wb'))"
   ]
  }
 ],
 "metadata": {
  "kernelspec": {
   "display_name": "base",
   "language": "python",
   "name": "python3"
  },
  "language_info": {
   "codemirror_mode": {
    "name": "ipython",
    "version": 3
   },
   "file_extension": ".py",
   "mimetype": "text/x-python",
   "name": "python",
   "nbconvert_exporter": "python",
   "pygments_lexer": "ipython3",
   "version": "3.9.12"
  },
  "orig_nbformat": 4
 },
 "nbformat": 4,
 "nbformat_minor": 2
}

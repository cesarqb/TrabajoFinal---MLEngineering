{
 "cells": [
  {
   "attachments": {},
   "cell_type": "markdown",
   "metadata": {},
   "source": [
    "## Scripts del Proyecto"
   ]
  },
  {
   "attachments": {},
   "cell_type": "markdown",
   "metadata": {},
   "source": [
    "### Script 0: Separación del dataset"
   ]
  },
  {
   "cell_type": "code",
   "execution_count": 4,
   "metadata": {},
   "outputs": [],
   "source": [
    "# Importación de librerias\n",
    "import pandas as pd"
   ]
  },
  {
   "cell_type": "code",
   "execution_count": 5,
   "metadata": {},
   "outputs": [],
   "source": [
    "# Leemos la data original\n",
    "data = pd.read_csv('../data/raw/data_p_bank.csv')"
   ]
  },
  {
   "cell_type": "code",
   "execution_count": 6,
   "metadata": {},
   "outputs": [],
   "source": [
    "# Obtenemos la dimensión y dividimos en 60%, 20% y 20%.\n",
    "len = data.shape[0]\n",
    "datatrain = data.iloc[: int(0.6*len)]\n",
    "datavalid = data.iloc[int(0.6*len) : int(0.8*len)]\n",
    "datascore = data.iloc[int(0.8*len) :]"
   ]
  },
  {
   "cell_type": "code",
   "execution_count": 7,
   "metadata": {},
   "outputs": [],
   "source": [
    "# Almacenamos los datos en partes\n",
    "datatrain.to_csv(\"../data/raw/train_accept_credit.csv\")\n",
    "datavalid.to_csv(\"../data/raw/valid_accept_credit.csv\")\n",
    "datascore.to_csv(\"../data/raw/score_accept_credit.csv\")"
   ]
  },
  {
   "attachments": {},
   "cell_type": "markdown",
   "metadata": {},
   "source": [
    "### Script 1: Preparación de datos para el entrenamiento"
   ]
  },
  {
   "cell_type": "code",
   "execution_count": 8,
   "metadata": {},
   "outputs": [],
   "source": [
    "# Importación de librerias\n",
    "\n",
    "import pandas as pd\n",
    "import numpy as np"
   ]
  },
  {
   "cell_type": "code",
   "execution_count": 9,
   "metadata": {},
   "outputs": [],
   "source": [
    "# Leemos la data de entrenemaiento\n",
    "\n",
    "df = pd.read_csv('../data/raw/train_accept_credit.csv')"
   ]
  },
  {
   "cell_type": "code",
   "execution_count": 10,
   "metadata": {},
   "outputs": [],
   "source": [
    "# Determinar la población objetivo\n",
    "# - Personas entre 18 y 65 años\n",
    "# - Personas con ingresos entre 1,500 y 20,000 soles\n",
    "\n",
    "df = df.loc[(df['EDAD'] >= 18) & (df['EDAD'] <= 65)]\n",
    "df = df.loc[(df['INGRESO_BRUTO'] >= 1_500) & (df['INGRESO_BRUTO'] <= 20_000)]"
   ]
  },
  {
   "cell_type": "code",
   "execution_count": 11,
   "metadata": {},
   "outputs": [],
   "source": [
    "# Limpieza de datos categóricos\n",
    "df['SEXO'] = np.where(df['SEXO'] == '0', np.nan, df['SEXO'])\n",
    "df['SIT_LAB'] = np.where(df['SIT_LAB'] == '0', np.nan, df['SIT_LAB'])\n",
    "df['DEPARTAMENTO'] = np.where(df['DEPARTAMENTO'] == 'SIN_INFO', np.nan, df['DEPARTAMENTO'])\n",
    "\n",
    "# Datos inconsistentes\n",
    "df['DEPARTAMENTO'] = np.where(df['DEPARTAMENTO'] == 'HU?NUCO', 'HUANUCO', df['DEPARTAMENTO'])\n",
    "df['DEPARTAMENTO'] = np.where(df['DEPARTAMENTO'] == 'JUN?N', 'JUNIN', df['DEPARTAMENTO'])\n",
    "df['DEPARTAMENTO'] = np.where(df['DEPARTAMENTO'] == 'SAN MART?N', 'SAN MARTIN', df['DEPARTAMENTO'])\n"
   ]
  },
  {
   "cell_type": "code",
   "execution_count": 12,
   "metadata": {},
   "outputs": [],
   "source": [
    "# Eliminar la variable 'LINEA_TARJETA' pues esta altamente correlacionada con INGRESO_BRUTO\n",
    "\n",
    "df.drop(['LINEA_TC'], axis=1, inplace=True)"
   ]
  },
  {
   "cell_type": "code",
   "execution_count": 13,
   "metadata": {},
   "outputs": [],
   "source": [
    "# Asignación de la media a las variables 'CAMP_TOT' y 'PROM_CAMP'\n",
    "\n",
    "df['CAMP_TOT'] = df['CAMP_TOT'].fillna(22)\n",
    "df['PROM_CAMP'] = df['PROM_CAMP'].fillna(3.666667)"
   ]
  },
  {
   "cell_type": "code",
   "execution_count": 14,
   "metadata": {},
   "outputs": [],
   "source": [
    "# Asignación de la moda a la variable 'RECENCIA_CAMP'\n",
    "\n",
    "df['RECENCIA_CAMP'] = df['RECENCIA_CAMP'].fillna(0.0)"
   ]
  },
  {
   "cell_type": "code",
   "execution_count": 15,
   "metadata": {},
   "outputs": [],
   "source": [
    "# Eliminación de registros donde poseea nan en variables ['SIT_LAB', 'SEXO', 'DEPARTAMENTO']\n",
    "\n",
    "df.dropna(inplace=True)"
   ]
  },
  {
   "cell_type": "code",
   "execution_count": 16,
   "metadata": {},
   "outputs": [],
   "source": [
    "# Seleccionar variables numéricas\n",
    "\n",
    "df_num = df[['INGRESO_BRUTO', 'EDAD', 'NRO_PAS_PBK', 'EMP_REP_TC_SF',\n",
    "       'EMP_REP_PP_SF', 'MAX_LINEA_TCSF', 'NRO_ENT_REP_TOT_U6',\n",
    "       'NRO_ENT_REP_SAL_TOT_U6', 'PORC_ENT_REP_SAL', 'NRO_ENT_REP_TOT_UM',\n",
    "       'NRO_ENT_REP_SAL_TOT_UM', 'IND_MAXLIN_ING', 'IND_LINIBK_ING',\n",
    "       'PROB_CONT', 'CAMP_TOT', 'PROM_CAMP', 'NRO_CAMP_TC', 'CAMP_TC_U6']]"
   ]
  },
  {
   "cell_type": "code",
   "execution_count": 17,
   "metadata": {},
   "outputs": [],
   "source": [
    "# Seleccionar variables categóricas\n",
    "\n",
    "df_cat = df[['TIPO_FLUJO_TC', 'SEXO', 'SIT_LAB', 'DEPARTAMENTO', 'FLG_SEGURO', 'CLI_AHOCRED',\n",
    "                    'CLI_CTS', 'CLI_FM', 'CLI_MILL', 'CLI_PLA', 'CLI_TXS', 'EMP_REP_PP_PBK', 'EMP_REP_CONV_PBK',\n",
    "                    'EMP_REP_VEH_PBK', 'EMP_REP_HIP_PBK', 'CLF_SBS', 'FLG_BANCARIZADO']]"
   ]
  },
  {
   "cell_type": "code",
   "execution_count": 18,
   "metadata": {},
   "outputs": [
    {
     "name": "stderr",
     "output_type": "stream",
     "text": [
      "C:\\Users\\pc\\AppData\\Local\\Temp\\ipykernel_8560\\3847622530.py:3: SettingWithCopyWarning: \n",
      "A value is trying to be set on a copy of a slice from a DataFrame.\n",
      "Try using .loc[row_indexer,col_indexer] = value instead\n",
      "\n",
      "See the caveats in the documentation: https://pandas.pydata.org/pandas-docs/stable/user_guide/indexing.html#returning-a-view-versus-a-copy\n",
      "  df_cat['TIPO_FLUJO_TC'] = np.where(df_cat['TIPO_FLUJO_TC'] == '100APRO', 0,\n",
      "C:\\Users\\pc\\AppData\\Local\\Temp\\ipykernel_8560\\3847622530.py:11: SettingWithCopyWarning: \n",
      "A value is trying to be set on a copy of a slice from a DataFrame.\n",
      "Try using .loc[row_indexer,col_indexer] = value instead\n",
      "\n",
      "See the caveats in the documentation: https://pandas.pydata.org/pandas-docs/stable/user_guide/indexing.html#returning-a-view-versus-a-copy\n",
      "  df_cat['SEXO'] = np.where(df_cat['SEXO'] == 'F', 0, 1)\n",
      "C:\\Users\\pc\\AppData\\Local\\Temp\\ipykernel_8560\\3847622530.py:14: SettingWithCopyWarning: \n",
      "A value is trying to be set on a copy of a slice from a DataFrame.\n",
      "Try using .loc[row_indexer,col_indexer] = value instead\n",
      "\n",
      "See the caveats in the documentation: https://pandas.pydata.org/pandas-docs/stable/user_guide/indexing.html#returning-a-view-versus-a-copy\n",
      "  df_cat['SIT_LAB'] = np.where(df_cat['SIT_LAB'] == 'DEPENDIENTE', 0,\n",
      "C:\\Users\\pc\\AppData\\Local\\Temp\\ipykernel_8560\\3847622530.py:18: SettingWithCopyWarning: \n",
      "A value is trying to be set on a copy of a slice from a DataFrame.\n",
      "Try using .loc[row_indexer,col_indexer] = value instead\n",
      "\n",
      "See the caveats in the documentation: https://pandas.pydata.org/pandas-docs/stable/user_guide/indexing.html#returning-a-view-versus-a-copy\n",
      "  df_cat['DEPARTAMENTO'] = np.where(df_cat['DEPARTAMENTO'] == 'AMAZONAS', 0,\n"
     ]
    }
   ],
   "source": [
    "# Label encoder manual \n",
    "## Tipo de flujo tarjeta de crédito'\n",
    "df_cat['TIPO_FLUJO_TC'] = np.where(df_cat['TIPO_FLUJO_TC'] == '100APRO', 0,\n",
    "                               np.where(df_cat['TIPO_FLUJO_TC'] == 'FAST', 1,\n",
    "                               np.where(df_cat['TIPO_FLUJO_TC'] == 'FAST1', 2,\n",
    "                               np.where(df_cat['TIPO_FLUJO_TC'] == 'FAST2', 3,\n",
    "                               np.where(df_cat['TIPO_FLUJO_TC'] == 'REG', 4,\n",
    "                               np.where(df_cat['TIPO_FLUJO_TC'] == 'REG1', 5, 6))))))\n",
    "\n",
    "## Sexo\n",
    "df_cat['SEXO'] = np.where(df_cat['SEXO'] == 'F', 0, 1)\n",
    "\n",
    "## Situación laboral\n",
    "df_cat['SIT_LAB'] = np.where(df_cat['SIT_LAB'] == 'DEPENDIENTE', 0,\n",
    "                         np.where(df_cat['SIT_LAB'] == 'INDEPENDIENTE', 1, 2))\n",
    "\n",
    "## Departamento\n",
    "df_cat['DEPARTAMENTO'] = np.where(df_cat['DEPARTAMENTO'] == 'AMAZONAS', 0,\n",
    "                              np.where(df_cat['DEPARTAMENTO'] == 'ANCASH', 1,\n",
    "                              np.where(df_cat['DEPARTAMENTO'] == 'APURIMAC', 2,\n",
    "                              np.where(df_cat['DEPARTAMENTO'] == 'AREQUIPA', 3,\n",
    "                              np.where(df_cat['DEPARTAMENTO'] == 'AYACUCHO', 4,\n",
    "                              np.where(df_cat['DEPARTAMENTO'] == 'CAJAMARCA', 5,\n",
    "                              np.where(df_cat['DEPARTAMENTO'] == 'CALLAO', 6,\n",
    "                              np.where(df_cat['DEPARTAMENTO'] == 'CUSCO', 7,\n",
    "                              np.where(df_cat['DEPARTAMENTO'] == 'HUANCAVELICA', 8,\n",
    "                              np.where(df_cat['DEPARTAMENTO'] == 'HUANUCO', 9,     \n",
    "                              np.where(df_cat['DEPARTAMENTO'] == 'ICA', 10,\n",
    "                              np.where(df_cat['DEPARTAMENTO'] == 'JUNIN', 11,\n",
    "                              np.where(df_cat['DEPARTAMENTO'] == 'LA LIBERTAD', 12,\n",
    "                              np.where(df_cat['DEPARTAMENTO'] == 'LAMBAYEQUE', 13,\n",
    "                              np.where(df_cat['DEPARTAMENTO'] == 'LIMA', 14,\n",
    "                              np.where(df_cat['DEPARTAMENTO'] == 'LORETO', 15,\n",
    "                              np.where(df_cat['DEPARTAMENTO'] == 'MADRE DE DIOS', 16,\n",
    "                              np.where(df_cat['DEPARTAMENTO'] == 'MOQUEGUA', 17,\n",
    "                              np.where(df_cat['DEPARTAMENTO'] == 'PASCO', 18,\n",
    "                              np.where(df_cat['DEPARTAMENTO'] == 'PIURA', 19,                                      \n",
    "                              np.where(df_cat['DEPARTAMENTO'] == 'PUNO', 20,\n",
    "                              np.where(df_cat['DEPARTAMENTO'] == 'SAN MARTIN', 21,\n",
    "                              np.where(df_cat['DEPARTAMENTO'] == 'TACNA', 22,\n",
    "                              np.where(df_cat['DEPARTAMENTO'] == 'TUMBES', 23, 24))))))))))))))))))))))))"
   ]
  },
  {
   "cell_type": "code",
   "execution_count": 19,
   "metadata": {},
   "outputs": [],
   "source": [
    "df = pd.concat([df_num, df_cat, df.iloc[:, -1]], axis=1)"
   ]
  },
  {
   "cell_type": "code",
   "execution_count": 20,
   "metadata": {},
   "outputs": [],
   "source": [
    "# Standarización manual\n",
    "\n",
    "df['INGRESO_BRUTO'] = (df['INGRESO_BRUTO'] - 3696.6618453865335)/2908.40406441597\n",
    "df['EDAD']  = (df['EDAD'] - 38.5284289276808)/10.9760534273786\n",
    "df['NRO_PAS_PBK'] = (df['NRO_PAS_PBK'] - 1.1386533665835412)/0.5431972842745025\n",
    "df['EMP_REP_TC_SF'] = (df['EMP_REP_TC_SF'] - 1.6483790523690773)/1.2807664891231465\n",
    "df['MAX_LINEA_TCSF'] = (df['MAX_LINEA_TCSF'] - 6921.149516209483)/12108.163628916564\n",
    "df['NRO_ENT_REP_SAL_TOT_U6'] = (df['NRO_ENT_REP_SAL_TOT_U6'] - 1.6483790523690773)/1.2807664891231465\n",
    "df['NRO_ENT_REP_TOT_UM'] = (df['NRO_ENT_REP_TOT_UM'] - 0.9836658354054884)/0.8936450682388486\n",
    "df['CAMP_TOT'] = (df['CAMP_TOT'] - 19.869825436408977)/13.652933983402649\n",
    "df['PROM_CAMP'] = (df['PROM_CAMP'] - 3.3116375973426333)/2.275489001060971\n",
    "df['NRO_CAMP_TC'] = (df['NRO_CAMP_TC'] - 2.7867830423940148)/2.5348998031548695\n",
    "df['TIPO_FLUJO_TC'] = (df['TIPO_FLUJO_TC'] - 2.324937655860349)/1.602692159694508\n",
    "df['DEPARTAMENTO'] = (df['DEPARTAMENTO'] - 12.655610972568578)/4.520329036191954"
   ]
  },
  {
   "cell_type": "code",
   "execution_count": 21,
   "metadata": {},
   "outputs": [],
   "source": [
    "df.to_csv(\"../data/processed/train_accept_credit.csv\")"
   ]
  },
  {
   "attachments": {},
   "cell_type": "markdown",
   "metadata": {},
   "source": [
    "### Script 2: Preparación de datos de validación"
   ]
  },
  {
   "cell_type": "code",
   "execution_count": 22,
   "metadata": {},
   "outputs": [],
   "source": [
    "# Importación de librerias\n",
    "\n",
    "import pandas as pd\n",
    "import numpy as np"
   ]
  },
  {
   "cell_type": "code",
   "execution_count": 23,
   "metadata": {},
   "outputs": [],
   "source": [
    "# Leemos la data de entrenemaiento\n",
    "\n",
    "df = pd.read_csv('../data/raw/valid_accept_credit.csv')\n",
    "df.drop(columns='Unnamed: 0', inplace=True)"
   ]
  },
  {
   "cell_type": "code",
   "execution_count": 24,
   "metadata": {},
   "outputs": [],
   "source": [
    "# Determinar la población objetivo\n",
    "# - Personas entre 18 y 65 años\n",
    "# - Personas con ingresos entre 1,500 y 20,000 soles\n",
    "\n",
    "df = df.loc[(df['EDAD'] >= 18) & (df['EDAD'] <= 65)]\n",
    "df = df.loc[(df['INGRESO_BRUTO'] >= 1_500) & (df['INGRESO_BRUTO'] <= 20_000)]"
   ]
  },
  {
   "cell_type": "code",
   "execution_count": 25,
   "metadata": {},
   "outputs": [],
   "source": [
    "# Limpieza de datos categóricos\n",
    "df['SEXO'] = np.where(df['SEXO'] == '0', np.nan, df['SEXO'])\n",
    "df['SIT_LAB'] = np.where(df['SIT_LAB'] == '0', np.nan, df['SIT_LAB'])\n",
    "df['DEPARTAMENTO'] = np.where(df['DEPARTAMENTO'] == 'SIN_INFO', np.nan, df['DEPARTAMENTO'])\n",
    "\n",
    "# Datos inconsistentes\n",
    "df['DEPARTAMENTO'] = np.where(df['DEPARTAMENTO'] == 'HU?NUCO', 'HUANUCO', df['DEPARTAMENTO'])\n",
    "df['DEPARTAMENTO'] = np.where(df['DEPARTAMENTO'] == 'JUN?N', 'JUNIN', df['DEPARTAMENTO'])\n",
    "df['DEPARTAMENTO'] = np.where(df['DEPARTAMENTO'] == 'SAN MART?N', 'SAN MARTIN', df['DEPARTAMENTO'])\n"
   ]
  },
  {
   "cell_type": "code",
   "execution_count": 26,
   "metadata": {},
   "outputs": [],
   "source": [
    "# Eliminar la variable 'LINEA_TARJETA' pues esta altamente correlacionada con INGRESO_BRUTO\n",
    "\n",
    "df.drop(['LINEA_TC'], axis=1, inplace=True)"
   ]
  },
  {
   "cell_type": "code",
   "execution_count": 27,
   "metadata": {},
   "outputs": [],
   "source": [
    "# Asignación de la media a las variables 'CAMP_TOT' y 'PROM_CAMP'\n",
    "\n",
    "df['CAMP_TOT'] = df['CAMP_TOT'].fillna(22)\n",
    "df['PROM_CAMP'] = df['PROM_CAMP'].fillna(3.666667)"
   ]
  },
  {
   "cell_type": "code",
   "execution_count": 28,
   "metadata": {},
   "outputs": [],
   "source": [
    "# Asignación de la moda a la variable 'RECENCIA_CAMP'\n",
    "\n",
    "df['RECENCIA_CAMP'] = df['RECENCIA_CAMP'].fillna(0.0)"
   ]
  },
  {
   "cell_type": "code",
   "execution_count": 29,
   "metadata": {},
   "outputs": [],
   "source": [
    "# Eliminación de registros donde poseea nan en variables ['SIT_LAB', 'SEXO', 'DEPARTAMENTO']\n",
    "\n",
    "df.dropna(inplace=True)"
   ]
  },
  {
   "cell_type": "code",
   "execution_count": 30,
   "metadata": {},
   "outputs": [],
   "source": [
    "# Seleccionar variables numéricas\n",
    "\n",
    "df_num = df[['INGRESO_BRUTO', 'EDAD', 'NRO_PAS_PBK', 'EMP_REP_TC_SF',\n",
    "       'EMP_REP_PP_SF', 'MAX_LINEA_TCSF', 'NRO_ENT_REP_TOT_U6',\n",
    "       'NRO_ENT_REP_SAL_TOT_U6', 'PORC_ENT_REP_SAL', 'NRO_ENT_REP_TOT_UM',\n",
    "       'NRO_ENT_REP_SAL_TOT_UM', 'IND_MAXLIN_ING', 'IND_LINIBK_ING',\n",
    "       'PROB_CONT', 'CAMP_TOT', 'PROM_CAMP', 'NRO_CAMP_TC', 'CAMP_TC_U6']]"
   ]
  },
  {
   "cell_type": "code",
   "execution_count": 31,
   "metadata": {},
   "outputs": [],
   "source": [
    "# Seleccionar variables categóricas\n",
    "\n",
    "df_cat = df[['TIPO_FLUJO_TC', 'SEXO', 'SIT_LAB', 'DEPARTAMENTO', 'FLG_SEGURO', 'CLI_AHOCRED',\n",
    "                    'CLI_CTS', 'CLI_FM', 'CLI_MILL', 'CLI_PLA', 'CLI_TXS', 'EMP_REP_PP_PBK', 'EMP_REP_CONV_PBK',\n",
    "                    'EMP_REP_VEH_PBK', 'EMP_REP_HIP_PBK', 'CLF_SBS', 'FLG_BANCARIZADO']]"
   ]
  },
  {
   "cell_type": "code",
   "execution_count": 32,
   "metadata": {},
   "outputs": [
    {
     "name": "stderr",
     "output_type": "stream",
     "text": [
      "C:\\Users\\pc\\AppData\\Local\\Temp\\ipykernel_8560\\3847622530.py:3: SettingWithCopyWarning: \n",
      "A value is trying to be set on a copy of a slice from a DataFrame.\n",
      "Try using .loc[row_indexer,col_indexer] = value instead\n",
      "\n",
      "See the caveats in the documentation: https://pandas.pydata.org/pandas-docs/stable/user_guide/indexing.html#returning-a-view-versus-a-copy\n",
      "  df_cat['TIPO_FLUJO_TC'] = np.where(df_cat['TIPO_FLUJO_TC'] == '100APRO', 0,\n",
      "C:\\Users\\pc\\AppData\\Local\\Temp\\ipykernel_8560\\3847622530.py:11: SettingWithCopyWarning: \n",
      "A value is trying to be set on a copy of a slice from a DataFrame.\n",
      "Try using .loc[row_indexer,col_indexer] = value instead\n",
      "\n",
      "See the caveats in the documentation: https://pandas.pydata.org/pandas-docs/stable/user_guide/indexing.html#returning-a-view-versus-a-copy\n",
      "  df_cat['SEXO'] = np.where(df_cat['SEXO'] == 'F', 0, 1)\n",
      "C:\\Users\\pc\\AppData\\Local\\Temp\\ipykernel_8560\\3847622530.py:14: SettingWithCopyWarning: \n",
      "A value is trying to be set on a copy of a slice from a DataFrame.\n",
      "Try using .loc[row_indexer,col_indexer] = value instead\n",
      "\n",
      "See the caveats in the documentation: https://pandas.pydata.org/pandas-docs/stable/user_guide/indexing.html#returning-a-view-versus-a-copy\n",
      "  df_cat['SIT_LAB'] = np.where(df_cat['SIT_LAB'] == 'DEPENDIENTE', 0,\n",
      "C:\\Users\\pc\\AppData\\Local\\Temp\\ipykernel_8560\\3847622530.py:18: SettingWithCopyWarning: \n",
      "A value is trying to be set on a copy of a slice from a DataFrame.\n",
      "Try using .loc[row_indexer,col_indexer] = value instead\n",
      "\n",
      "See the caveats in the documentation: https://pandas.pydata.org/pandas-docs/stable/user_guide/indexing.html#returning-a-view-versus-a-copy\n",
      "  df_cat['DEPARTAMENTO'] = np.where(df_cat['DEPARTAMENTO'] == 'AMAZONAS', 0,\n"
     ]
    }
   ],
   "source": [
    "# Label encoder manual \n",
    "## Tipo de flujo tarjeta de crédito'\n",
    "df_cat['TIPO_FLUJO_TC'] = np.where(df_cat['TIPO_FLUJO_TC'] == '100APRO', 0,\n",
    "                               np.where(df_cat['TIPO_FLUJO_TC'] == 'FAST', 1,\n",
    "                               np.where(df_cat['TIPO_FLUJO_TC'] == 'FAST1', 2,\n",
    "                               np.where(df_cat['TIPO_FLUJO_TC'] == 'FAST2', 3,\n",
    "                               np.where(df_cat['TIPO_FLUJO_TC'] == 'REG', 4,\n",
    "                               np.where(df_cat['TIPO_FLUJO_TC'] == 'REG1', 5, 6))))))\n",
    "\n",
    "## Sexo\n",
    "df_cat['SEXO'] = np.where(df_cat['SEXO'] == 'F', 0, 1)\n",
    "\n",
    "## Situación laboral\n",
    "df_cat['SIT_LAB'] = np.where(df_cat['SIT_LAB'] == 'DEPENDIENTE', 0,\n",
    "                         np.where(df_cat['SIT_LAB'] == 'INDEPENDIENTE', 1, 2))\n",
    "\n",
    "## Departamento\n",
    "df_cat['DEPARTAMENTO'] = np.where(df_cat['DEPARTAMENTO'] == 'AMAZONAS', 0,\n",
    "                              np.where(df_cat['DEPARTAMENTO'] == 'ANCASH', 1,\n",
    "                              np.where(df_cat['DEPARTAMENTO'] == 'APURIMAC', 2,\n",
    "                              np.where(df_cat['DEPARTAMENTO'] == 'AREQUIPA', 3,\n",
    "                              np.where(df_cat['DEPARTAMENTO'] == 'AYACUCHO', 4,\n",
    "                              np.where(df_cat['DEPARTAMENTO'] == 'CAJAMARCA', 5,\n",
    "                              np.where(df_cat['DEPARTAMENTO'] == 'CALLAO', 6,\n",
    "                              np.where(df_cat['DEPARTAMENTO'] == 'CUSCO', 7,\n",
    "                              np.where(df_cat['DEPARTAMENTO'] == 'HUANCAVELICA', 8,\n",
    "                              np.where(df_cat['DEPARTAMENTO'] == 'HUANUCO', 9,     \n",
    "                              np.where(df_cat['DEPARTAMENTO'] == 'ICA', 10,\n",
    "                              np.where(df_cat['DEPARTAMENTO'] == 'JUNIN', 11,\n",
    "                              np.where(df_cat['DEPARTAMENTO'] == 'LA LIBERTAD', 12,\n",
    "                              np.where(df_cat['DEPARTAMENTO'] == 'LAMBAYEQUE', 13,\n",
    "                              np.where(df_cat['DEPARTAMENTO'] == 'LIMA', 14,\n",
    "                              np.where(df_cat['DEPARTAMENTO'] == 'LORETO', 15,\n",
    "                              np.where(df_cat['DEPARTAMENTO'] == 'MADRE DE DIOS', 16,\n",
    "                              np.where(df_cat['DEPARTAMENTO'] == 'MOQUEGUA', 17,\n",
    "                              np.where(df_cat['DEPARTAMENTO'] == 'PASCO', 18,\n",
    "                              np.where(df_cat['DEPARTAMENTO'] == 'PIURA', 19,                                      \n",
    "                              np.where(df_cat['DEPARTAMENTO'] == 'PUNO', 20,\n",
    "                              np.where(df_cat['DEPARTAMENTO'] == 'SAN MARTIN', 21,\n",
    "                              np.where(df_cat['DEPARTAMENTO'] == 'TACNA', 22,\n",
    "                              np.where(df_cat['DEPARTAMENTO'] == 'TUMBES', 23, 24))))))))))))))))))))))))"
   ]
  },
  {
   "cell_type": "code",
   "execution_count": 33,
   "metadata": {},
   "outputs": [],
   "source": [
    "df = pd.concat([df_num, df_cat, df.iloc[:, -1]], axis=1)"
   ]
  },
  {
   "cell_type": "code",
   "execution_count": 34,
   "metadata": {},
   "outputs": [],
   "source": [
    "# Standarización manual\n",
    "\n",
    "df['INGRESO_BRUTO'] = (df['INGRESO_BRUTO'] - 3696.6618453865335)/2908.40406441597\n",
    "df['EDAD']  = (df['EDAD'] - 38.5284289276808)/10.9760534273786\n",
    "df['NRO_PAS_PBK'] = (df['NRO_PAS_PBK'] - 1.1386533665835412)/0.5431972842745025\n",
    "df['EMP_REP_TC_SF'] = (df['EMP_REP_TC_SF'] - 1.6483790523690773)/1.2807664891231465\n",
    "df['MAX_LINEA_TCSF'] = (df['MAX_LINEA_TCSF'] - 6921.149516209483)/12108.163628916564\n",
    "df['NRO_ENT_REP_SAL_TOT_U6'] = (df['NRO_ENT_REP_SAL_TOT_U6'] - 1.6483790523690773)/1.2807664891231465\n",
    "df['NRO_ENT_REP_TOT_UM'] = (df['NRO_ENT_REP_TOT_UM'] - 0.9836658354054884)/0.8936450682388486\n",
    "df['CAMP_TOT'] = (df['CAMP_TOT'] - 19.869825436408977)/13.652933983402649\n",
    "df['PROM_CAMP'] = (df['PROM_CAMP'] - 3.3116375973426333)/2.275489001060971\n",
    "df['NRO_CAMP_TC'] = (df['NRO_CAMP_TC'] - 2.7867830423940148)/2.5348998031548695\n",
    "df['TIPO_FLUJO_TC'] = (df['TIPO_FLUJO_TC'] - 2.324937655860349)/1.602692159694508\n",
    "df['DEPARTAMENTO'] = (df['DEPARTAMENTO'] - 12.655610972568578)/4.520329036191954"
   ]
  },
  {
   "cell_type": "code",
   "execution_count": 35,
   "metadata": {},
   "outputs": [],
   "source": [
    "df.to_csv(\"../data/processed/valid_accept_credit.csv\")"
   ]
  },
  {
   "attachments": {},
   "cell_type": "markdown",
   "metadata": {},
   "source": [
    "### Script 2: Preparación de datos de validación"
   ]
  },
  {
   "cell_type": "code",
   "execution_count": 36,
   "metadata": {},
   "outputs": [],
   "source": [
    "# Importación de librerias\n",
    "\n",
    "import pandas as pd\n",
    "import numpy as np"
   ]
  },
  {
   "cell_type": "code",
   "execution_count": 37,
   "metadata": {},
   "outputs": [],
   "source": [
    "# Leemos la data de entrenemaiento\n",
    "\n",
    "df = pd.read_csv('../data/raw/score_accept_credit.csv')"
   ]
  },
  {
   "cell_type": "code",
   "execution_count": 38,
   "metadata": {},
   "outputs": [],
   "source": [
    "# Determinar la población objetivo\n",
    "# - Personas entre 18 y 65 años\n",
    "# - Personas con ingresos entre 1,500 y 20,000 soles\n",
    "\n",
    "df = df.loc[(df['EDAD'] >= 18) & (df['EDAD'] <= 65)]\n",
    "df = df.loc[(df['INGRESO_BRUTO'] >= 1_500) & (df['INGRESO_BRUTO'] <= 20_000)]"
   ]
  },
  {
   "cell_type": "code",
   "execution_count": 39,
   "metadata": {},
   "outputs": [],
   "source": [
    "# Limpieza de datos categóricos\n",
    "df['SEXO'] = np.where(df['SEXO'] == '0', np.nan, df['SEXO'])\n",
    "df['SIT_LAB'] = np.where(df['SIT_LAB'] == '0', np.nan, df['SIT_LAB'])\n",
    "df['DEPARTAMENTO'] = np.where(df['DEPARTAMENTO'] == 'SIN_INFO', np.nan, df['DEPARTAMENTO'])\n",
    "\n",
    "# Datos inconsistentes\n",
    "df['DEPARTAMENTO'] = np.where(df['DEPARTAMENTO'] == 'HU?NUCO', 'HUANUCO', df['DEPARTAMENTO'])\n",
    "df['DEPARTAMENTO'] = np.where(df['DEPARTAMENTO'] == 'JUN?N', 'JUNIN', df['DEPARTAMENTO'])\n",
    "df['DEPARTAMENTO'] = np.where(df['DEPARTAMENTO'] == 'SAN MART?N', 'SAN MARTIN', df['DEPARTAMENTO'])\n"
   ]
  },
  {
   "cell_type": "code",
   "execution_count": 40,
   "metadata": {},
   "outputs": [],
   "source": [
    "# Eliminar la variable 'LINEA_TARJETA' pues esta altamente correlacionada con INGRESO_BRUTO\n",
    "\n",
    "df.drop(['LINEA_TC'], axis=1, inplace=True)"
   ]
  },
  {
   "cell_type": "code",
   "execution_count": 41,
   "metadata": {},
   "outputs": [],
   "source": [
    "# Asignación de la media a las variables 'CAMP_TOT' y 'PROM_CAMP'\n",
    "\n",
    "df['CAMP_TOT'] = df['CAMP_TOT'].fillna(22)\n",
    "df['PROM_CAMP'] = df['PROM_CAMP'].fillna(3.666667)"
   ]
  },
  {
   "cell_type": "code",
   "execution_count": 42,
   "metadata": {},
   "outputs": [],
   "source": [
    "# Asignación de la moda a la variable 'RECENCIA_CAMP'\n",
    "\n",
    "df['RECENCIA_CAMP'] = df['RECENCIA_CAMP'].fillna(0.0)"
   ]
  },
  {
   "cell_type": "code",
   "execution_count": 43,
   "metadata": {},
   "outputs": [],
   "source": [
    "# Eliminación de registros donde poseea nan en variables ['SIT_LAB', 'SEXO', 'DEPARTAMENTO']\n",
    "\n",
    "df.dropna(inplace=True)"
   ]
  },
  {
   "cell_type": "code",
   "execution_count": 44,
   "metadata": {},
   "outputs": [],
   "source": [
    "# Seleccionar variables numéricas\n",
    "\n",
    "df_num = df[['INGRESO_BRUTO', 'EDAD', 'NRO_PAS_PBK', 'EMP_REP_TC_SF',\n",
    "       'EMP_REP_PP_SF', 'MAX_LINEA_TCSF', 'NRO_ENT_REP_TOT_U6',\n",
    "       'NRO_ENT_REP_SAL_TOT_U6', 'PORC_ENT_REP_SAL', 'NRO_ENT_REP_TOT_UM',\n",
    "       'NRO_ENT_REP_SAL_TOT_UM', 'IND_MAXLIN_ING', 'IND_LINIBK_ING',\n",
    "       'PROB_CONT', 'CAMP_TOT', 'PROM_CAMP', 'NRO_CAMP_TC', 'CAMP_TC_U6']]"
   ]
  },
  {
   "cell_type": "code",
   "execution_count": 45,
   "metadata": {},
   "outputs": [],
   "source": [
    "# Seleccionar variables categóricas\n",
    "\n",
    "df_cat = df[['TIPO_FLUJO_TC', 'SEXO', 'SIT_LAB', 'DEPARTAMENTO', 'FLG_SEGURO', 'CLI_AHOCRED',\n",
    "                    'CLI_CTS', 'CLI_FM', 'CLI_MILL', 'CLI_PLA', 'CLI_TXS', 'EMP_REP_PP_PBK', 'EMP_REP_CONV_PBK',\n",
    "                    'EMP_REP_VEH_PBK', 'EMP_REP_HIP_PBK', 'CLF_SBS', 'FLG_BANCARIZADO']]"
   ]
  },
  {
   "cell_type": "code",
   "execution_count": 46,
   "metadata": {},
   "outputs": [
    {
     "name": "stderr",
     "output_type": "stream",
     "text": [
      "C:\\Users\\pc\\AppData\\Local\\Temp\\ipykernel_8560\\3847622530.py:3: SettingWithCopyWarning: \n",
      "A value is trying to be set on a copy of a slice from a DataFrame.\n",
      "Try using .loc[row_indexer,col_indexer] = value instead\n",
      "\n",
      "See the caveats in the documentation: https://pandas.pydata.org/pandas-docs/stable/user_guide/indexing.html#returning-a-view-versus-a-copy\n",
      "  df_cat['TIPO_FLUJO_TC'] = np.where(df_cat['TIPO_FLUJO_TC'] == '100APRO', 0,\n",
      "C:\\Users\\pc\\AppData\\Local\\Temp\\ipykernel_8560\\3847622530.py:11: SettingWithCopyWarning: \n",
      "A value is trying to be set on a copy of a slice from a DataFrame.\n",
      "Try using .loc[row_indexer,col_indexer] = value instead\n",
      "\n",
      "See the caveats in the documentation: https://pandas.pydata.org/pandas-docs/stable/user_guide/indexing.html#returning-a-view-versus-a-copy\n",
      "  df_cat['SEXO'] = np.where(df_cat['SEXO'] == 'F', 0, 1)\n",
      "C:\\Users\\pc\\AppData\\Local\\Temp\\ipykernel_8560\\3847622530.py:14: SettingWithCopyWarning: \n",
      "A value is trying to be set on a copy of a slice from a DataFrame.\n",
      "Try using .loc[row_indexer,col_indexer] = value instead\n",
      "\n",
      "See the caveats in the documentation: https://pandas.pydata.org/pandas-docs/stable/user_guide/indexing.html#returning-a-view-versus-a-copy\n",
      "  df_cat['SIT_LAB'] = np.where(df_cat['SIT_LAB'] == 'DEPENDIENTE', 0,\n",
      "C:\\Users\\pc\\AppData\\Local\\Temp\\ipykernel_8560\\3847622530.py:18: SettingWithCopyWarning: \n",
      "A value is trying to be set on a copy of a slice from a DataFrame.\n",
      "Try using .loc[row_indexer,col_indexer] = value instead\n",
      "\n",
      "See the caveats in the documentation: https://pandas.pydata.org/pandas-docs/stable/user_guide/indexing.html#returning-a-view-versus-a-copy\n",
      "  df_cat['DEPARTAMENTO'] = np.where(df_cat['DEPARTAMENTO'] == 'AMAZONAS', 0,\n"
     ]
    }
   ],
   "source": [
    "# Label encoder manual \n",
    "## Tipo de flujo tarjeta de crédito'\n",
    "df_cat['TIPO_FLUJO_TC'] = np.where(df_cat['TIPO_FLUJO_TC'] == '100APRO', 0,\n",
    "                               np.where(df_cat['TIPO_FLUJO_TC'] == 'FAST', 1,\n",
    "                               np.where(df_cat['TIPO_FLUJO_TC'] == 'FAST1', 2,\n",
    "                               np.where(df_cat['TIPO_FLUJO_TC'] == 'FAST2', 3,\n",
    "                               np.where(df_cat['TIPO_FLUJO_TC'] == 'REG', 4,\n",
    "                               np.where(df_cat['TIPO_FLUJO_TC'] == 'REG1', 5, 6))))))\n",
    "\n",
    "## Sexo\n",
    "df_cat['SEXO'] = np.where(df_cat['SEXO'] == 'F', 0, 1)\n",
    "\n",
    "## Situación laboral\n",
    "df_cat['SIT_LAB'] = np.where(df_cat['SIT_LAB'] == 'DEPENDIENTE', 0,\n",
    "                         np.where(df_cat['SIT_LAB'] == 'INDEPENDIENTE', 1, 2))\n",
    "\n",
    "## Departamento\n",
    "df_cat['DEPARTAMENTO'] = np.where(df_cat['DEPARTAMENTO'] == 'AMAZONAS', 0,\n",
    "                              np.where(df_cat['DEPARTAMENTO'] == 'ANCASH', 1,\n",
    "                              np.where(df_cat['DEPARTAMENTO'] == 'APURIMAC', 2,\n",
    "                              np.where(df_cat['DEPARTAMENTO'] == 'AREQUIPA', 3,\n",
    "                              np.where(df_cat['DEPARTAMENTO'] == 'AYACUCHO', 4,\n",
    "                              np.where(df_cat['DEPARTAMENTO'] == 'CAJAMARCA', 5,\n",
    "                              np.where(df_cat['DEPARTAMENTO'] == 'CALLAO', 6,\n",
    "                              np.where(df_cat['DEPARTAMENTO'] == 'CUSCO', 7,\n",
    "                              np.where(df_cat['DEPARTAMENTO'] == 'HUANCAVELICA', 8,\n",
    "                              np.where(df_cat['DEPARTAMENTO'] == 'HUANUCO', 9,     \n",
    "                              np.where(df_cat['DEPARTAMENTO'] == 'ICA', 10,\n",
    "                              np.where(df_cat['DEPARTAMENTO'] == 'JUNIN', 11,\n",
    "                              np.where(df_cat['DEPARTAMENTO'] == 'LA LIBERTAD', 12,\n",
    "                              np.where(df_cat['DEPARTAMENTO'] == 'LAMBAYEQUE', 13,\n",
    "                              np.where(df_cat['DEPARTAMENTO'] == 'LIMA', 14,\n",
    "                              np.where(df_cat['DEPARTAMENTO'] == 'LORETO', 15,\n",
    "                              np.where(df_cat['DEPARTAMENTO'] == 'MADRE DE DIOS', 16,\n",
    "                              np.where(df_cat['DEPARTAMENTO'] == 'MOQUEGUA', 17,\n",
    "                              np.where(df_cat['DEPARTAMENTO'] == 'PASCO', 18,\n",
    "                              np.where(df_cat['DEPARTAMENTO'] == 'PIURA', 19,                                      \n",
    "                              np.where(df_cat['DEPARTAMENTO'] == 'PUNO', 20,\n",
    "                              np.where(df_cat['DEPARTAMENTO'] == 'SAN MARTIN', 21,\n",
    "                              np.where(df_cat['DEPARTAMENTO'] == 'TACNA', 22,\n",
    "                              np.where(df_cat['DEPARTAMENTO'] == 'TUMBES', 23, 24))))))))))))))))))))))))"
   ]
  },
  {
   "cell_type": "code",
   "execution_count": null,
   "metadata": {},
   "outputs": [],
   "source": [
    "df = pd.concat([df_num, df_cat], axis=1)"
   ]
  },
  {
   "cell_type": "code",
   "execution_count": null,
   "metadata": {},
   "outputs": [],
   "source": [
    "# Standarización manual\n",
    "\n",
    "df['INGRESO_BRUTO'] = (df['INGRESO_BRUTO'] - 3696.6618453865335)/2908.40406441597\n",
    "df['EDAD']  = (df['EDAD'] - 38.5284289276808)/10.9760534273786\n",
    "df['NRO_PAS_PBK'] = (df['NRO_PAS_PBK'] - 1.1386533665835412)/0.5431972842745025\n",
    "df['EMP_REP_TC_SF'] = (df['EMP_REP_TC_SF'] - 1.6483790523690773)/1.2807664891231465\n",
    "df['MAX_LINEA_TCSF'] = (df['MAX_LINEA_TCSF'] - 6921.149516209483)/12108.163628916564\n",
    "df['NRO_ENT_REP_SAL_TOT_U6'] = (df['NRO_ENT_REP_SAL_TOT_U6'] - 1.6483790523690773)/1.2807664891231465\n",
    "df['NRO_ENT_REP_TOT_UM'] = (df['NRO_ENT_REP_TOT_UM'] - 0.9836658354054884)/0.8936450682388486\n",
    "df['CAMP_TOT'] = (df['CAMP_TOT'] - 19.869825436408977)/13.652933983402649\n",
    "df['PROM_CAMP'] = (df['PROM_CAMP'] - 3.3116375973426333)/2.275489001060971\n",
    "df['NRO_CAMP_TC'] = (df['NRO_CAMP_TC'] - 2.7867830423940148)/2.5348998031548695\n",
    "df['TIPO_FLUJO_TC'] = (df['TIPO_FLUJO_TC'] - 2.324937655860349)/1.602692159694508\n",
    "df['DEPARTAMENTO'] = (df['DEPARTAMENTO'] - 12.655610972568578)/4.520329036191954"
   ]
  },
  {
   "cell_type": "code",
   "execution_count": null,
   "metadata": {},
   "outputs": [],
   "source": [
    "df.to_csv(\"../data/processed/score_accept_credit.csv\")"
   ]
  }
 ],
 "metadata": {
  "kernelspec": {
   "display_name": "base",
   "language": "python",
   "name": "python3"
  },
  "language_info": {
   "codemirror_mode": {
    "name": "ipython",
    "version": 3
   },
   "file_extension": ".py",
   "mimetype": "text/x-python",
   "name": "python",
   "nbconvert_exporter": "python",
   "pygments_lexer": "ipython3",
   "version": "3.9.12"
  },
  "orig_nbformat": 4
 },
 "nbformat": 4,
 "nbformat_minor": 2
}
